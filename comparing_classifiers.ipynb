{
  "nbformat": 4,
  "nbformat_minor": 0,
  "metadata": {
    "colab": {
      "provenance": [],
      "authorship_tag": "ABX9TyMw/zwbat4CH90qw1xi+WPh",
      "include_colab_link": true
    },
    "kernelspec": {
      "name": "python3",
      "display_name": "Python 3"
    },
    "language_info": {
      "name": "python"
    }
  },
  "cells": [
    {
      "cell_type": "markdown",
      "metadata": {
        "id": "view-in-github",
        "colab_type": "text"
      },
      "source": [
        "<a href=\"https://colab.research.google.com/github/msaddamhussain07/MachineLearning/blob/main/comparing_classifiers.ipynb\" target=\"_parent\"><img src=\"https://colab.research.google.com/assets/colab-badge.svg\" alt=\"Open In Colab\"/></a>"
      ]
    },
    {
      "cell_type": "code",
      "execution_count": null,
      "metadata": {
        "id": "01204Z_4ay_k"
      },
      "outputs": [],
      "source": []
    },
    {
      "cell_type": "markdown",
      "source": [
        "# Compairing classifiers for building classification models"
      ],
      "metadata": {
        "id": "QWUmMlPOc8fz"
      }
    },
    {
      "cell_type": "markdown",
      "source": [
        "In this we will be building different classifiers and will also compaire there performance."
      ],
      "metadata": {
        "id": "0sQGnJXmdHcE"
      }
    },
    {
      "cell_type": "markdown",
      "source": [
        "## 1. Generating a sample data set"
      ],
      "metadata": {
        "id": "3FqKxkqAdZ4j"
      }
    },
    {
      "cell_type": "markdown",
      "source": [
        "### 1.1 Import library"
      ],
      "metadata": {
        "id": "ISKNEc6AdecV"
      }
    },
    {
      "cell_type": "code",
      "source": [
        "from sklearn.datasets import make_classification"
      ],
      "metadata": {
        "id": "d6rtauqOdhHO"
      },
      "execution_count": 1,
      "outputs": []
    },
    {
      "cell_type": "markdown",
      "source": [
        "### 1.2 Generating the data set"
      ],
      "metadata": {
        "id": "NNmngYcvdqiw"
      }
    },
    {
      "cell_type": "code",
      "source": [
        "X, Y = make_classification(\n",
        "    n_samples=1000,\n",
        "    n_classes=2,\n",
        "    n_features=5,\n",
        "    n_redundant=0,\n",
        "    random_state=1\n",
        ")"
      ],
      "metadata": {
        "id": "-HRDMECSdswa"
      },
      "execution_count": 2,
      "outputs": []
    },
    {
      "cell_type": "markdown",
      "source": [
        "### 1.3 Examine th data dimension"
      ],
      "metadata": {
        "id": "4OYGQgnaeGAA"
      }
    },
    {
      "cell_type": "code",
      "source": [
        "X.shape"
      ],
      "metadata": {
        "colab": {
          "base_uri": "https://localhost:8080/"
        },
        "id": "L9WkwYJkeOdU",
        "outputId": "86201c31-c148-484c-cd3d-1143b53cbea8"
      },
      "execution_count": 3,
      "outputs": [
        {
          "output_type": "execute_result",
          "data": {
            "text/plain": [
              "(1000, 5)"
            ]
          },
          "metadata": {},
          "execution_count": 3
        }
      ]
    },
    {
      "cell_type": "code",
      "source": [
        "Y.shape"
      ],
      "metadata": {
        "colab": {
          "base_uri": "https://localhost:8080/"
        },
        "id": "u0OiMSYseP1s",
        "outputId": "da44c255-2f21-429f-982e-4c89711263a5"
      },
      "execution_count": 4,
      "outputs": [
        {
          "output_type": "execute_result",
          "data": {
            "text/plain": [
              "(1000,)"
            ]
          },
          "metadata": {},
          "execution_count": 4
        }
      ]
    },
    {
      "cell_type": "markdown",
      "source": [
        "## 2 Splitting the data into training set and test set (80/20)"
      ],
      "metadata": {
        "id": "H9vC0mLaeTpL"
      }
    },
    {
      "cell_type": "markdown",
      "source": [
        "### 2.1 Import library"
      ],
      "metadata": {
        "id": "GoGaKAByea9H"
      }
    },
    {
      "cell_type": "code",
      "source": [
        "from sklearn.model_selection import train_test_split"
      ],
      "metadata": {
        "id": "oBKa309Aedzr"
      },
      "execution_count": 5,
      "outputs": []
    },
    {
      "cell_type": "markdown",
      "source": [
        "### 2.2 Splitting the data"
      ],
      "metadata": {
        "id": "iiNXKBYzelaQ"
      }
    },
    {
      "cell_type": "code",
      "source": [
        "X_train, X_test, Y_train, Y_test = train_test_split(X,Y, test_size=0.2)"
      ],
      "metadata": {
        "id": "jzMbqnPhepKV"
      },
      "execution_count": 6,
      "outputs": []
    },
    {
      "cell_type": "markdown",
      "source": [
        "### 2.3 Examine the training and testing data set"
      ],
      "metadata": {
        "id": "E4cD51rWe2_N"
      }
    },
    {
      "cell_type": "code",
      "source": [
        "X_train.shape, Y_train.shape"
      ],
      "metadata": {
        "colab": {
          "base_uri": "https://localhost:8080/"
        },
        "id": "njadUV0Ue6fW",
        "outputId": "5e2d58d0-7d78-4713-f391-572a4a39f82e"
      },
      "execution_count": 7,
      "outputs": [
        {
          "output_type": "execute_result",
          "data": {
            "text/plain": [
              "((800, 5), (800,))"
            ]
          },
          "metadata": {},
          "execution_count": 7
        }
      ]
    },
    {
      "cell_type": "code",
      "source": [
        "X_test.shape, Y_test.shape"
      ],
      "metadata": {
        "colab": {
          "base_uri": "https://localhost:8080/"
        },
        "id": "zkm2bifqfADN",
        "outputId": "30da0779-4d68-426b-9b75-5af67a291b0a"
      },
      "execution_count": 8,
      "outputs": [
        {
          "output_type": "execute_result",
          "data": {
            "text/plain": [
              "((200, 5), (200,))"
            ]
          },
          "metadata": {},
          "execution_count": 8
        }
      ]
    },
    {
      "cell_type": "markdown",
      "source": [
        "## 3. Building the classification models"
      ],
      "metadata": {
        "id": "FHtgxkHtfDGV"
      }
    },
    {
      "cell_type": "markdown",
      "source": [
        "## 3.1 Importing modules"
      ],
      "metadata": {
        "id": "Sr1Pc7IofZDk"
      }
    },
    {
      "cell_type": "code",
      "source": [
        "import pandas as pd\n",
        "\n",
        "from sklearn.neural_network import MLPClassifier\n",
        "from sklearn.neighbors import KNeighborsClassifier\n",
        "from sklearn.svm import SVC\n",
        "from sklearn.gaussian_process import GaussianProcessClassifier\n",
        "from sklearn.ensemble import GradientBoostingClassifier\n",
        "from sklearn.gaussian_process.kernels import RBF\n",
        "from sklearn.tree import DecisionTreeClassifier\n",
        "from sklearn.ensemble import ExtraTreesClassifier\n",
        "from sklearn.ensemble import RandomForestClassifier, AdaBoostClassifier\n",
        "from sklearn.naive_bayes import GaussianNB\n",
        "from sklearn.discriminant_analysis import QuadraticDiscriminantAnalysis\n",
        "from sklearn.linear_model import SGDClassifier"
      ],
      "metadata": {
        "id": "Q_YfBfZffctF"
      },
      "execution_count": 10,
      "outputs": []
    },
    {
      "cell_type": "markdown",
      "source": [
        "### 3.2 Defining learning classifiers"
      ],
      "metadata": {
        "id": "Ytt0HjY88oBc"
      }
    },
    {
      "cell_type": "code",
      "source": [
        "names = [\"Nearest_Neighbors\",\n",
        "         \"Linear_SVM\",\n",
        "         \"Polynomial_SVM\",\n",
        "         \"RBF_SVM\",\n",
        "         \"Gaussian_Process\",\n",
        "         \"Gradient_Boosting\",\n",
        "         \"Decission_Tree\",\n",
        "         \"Extra_Tree\",\n",
        "         \"Random_Forest\",\n",
        "         \"Neural_net\",\n",
        "         \"AdaBoost\",\n",
        "         \"Naive_Bayes\",\n",
        "         \"QDA\",\n",
        "         \"SGD\"]"
      ],
      "metadata": {
        "id": "NerW0b028t46"
      },
      "execution_count": 11,
      "outputs": []
    },
    {
      "cell_type": "code",
      "source": [
        "classifiers = [\n",
        "    KNeighborsClassifier(3),\n",
        "    SVC(kernel=\"linear\", C=0.025),\n",
        "    SVC(kernel=\"poly\", C=0.025),\n",
        "    SVC(kernel=\"rbf\", C=1, gamma=2),\n",
        "    GaussianProcessClassifier(1.0 * RBF(1.0)),\n",
        "    GradientBoostingClassifier(n_estimators=10, learning_rate=1.0),\n",
        "    DecisionTreeClassifier(max_depth=5),\n",
        "    ExtraTreesClassifier(n_estimators=10, min_samples_split=2),\n",
        "    RandomForestClassifier(max_depth=5, n_estimators=100),\n",
        "    MLPClassifier(alpha=1, max_iter=1000),\n",
        "    AdaBoostClassifier(n_estimators=100),\n",
        "    GaussianNB(),\n",
        "    QuadraticDiscriminantAnalysis(),\n",
        "    SGDClassifier(loss=\"hinge\", penalty=\"l2\")\n",
        "]"
      ],
      "metadata": {
        "id": "MZMyOX9r96Zp"
      },
      "execution_count": 16,
      "outputs": []
    },
    {
      "cell_type": "markdown",
      "source": [
        "### 3.3 Build models and apply models on test data & record accuracy score"
      ],
      "metadata": {
        "id": "XlM_ggON_3gp"
      }
    },
    {
      "cell_type": "code",
      "source": [
        "scores = []\n",
        "for name, clf in zip(names, classifiers):\n",
        "  clf.fit(X_train, Y_train)\n",
        "  score = clf.score(X_test, Y_test)\n",
        "  scores.append(score)"
      ],
      "metadata": {
        "id": "inlauStMAESe"
      },
      "execution_count": 17,
      "outputs": []
    },
    {
      "cell_type": "code",
      "source": [
        "scores"
      ],
      "metadata": {
        "colab": {
          "base_uri": "https://localhost:8080/"
        },
        "id": "A0JbZzSfA6IL",
        "outputId": "08167274-b77a-43f6-de65-37ea9dc20d41"
      },
      "execution_count": 18,
      "outputs": [
        {
          "output_type": "execute_result",
          "data": {
            "text/plain": [
              "[0.87,\n",
              " 0.865,\n",
              " 0.83,\n",
              " 0.835,\n",
              " 0.895,\n",
              " 0.84,\n",
              " 0.885,\n",
              " 0.88,\n",
              " 0.89,\n",
              " 0.91,\n",
              " 0.865,\n",
              " 0.88,\n",
              " 0.85,\n",
              " 0.8]"
            ]
          },
          "metadata": {},
          "execution_count": 18
        }
      ]
    },
    {
      "cell_type": "markdown",
      "source": [
        "## 4. Analysis of all the model performance"
      ],
      "metadata": {
        "id": "t0nKCntpA91h"
      }
    },
    {
      "cell_type": "markdown",
      "source": [
        "### 4.1 Import library"
      ],
      "metadata": {
        "id": "ocac1PG0BCQb"
      }
    },
    {
      "cell_type": "code",
      "source": [
        "import pandas as pd\n",
        "import seaborn as sns"
      ],
      "metadata": {
        "id": "nC6xJTGoBEww"
      },
      "execution_count": 19,
      "outputs": []
    },
    {
      "cell_type": "markdown",
      "source": [
        "### 4.2 Create data frame of model performance"
      ],
      "metadata": {
        "id": "W0UFxeJ3BNtX"
      }
    },
    {
      "cell_type": "code",
      "source": [
        "df = pd.DataFrame()\n",
        "df['name'] = names\n",
        "df['score'] = scores\n",
        "df"
      ],
      "metadata": {
        "colab": {
          "base_uri": "https://localhost:8080/",
          "height": 488
        },
        "id": "ZFvmAGhkBSrX",
        "outputId": "ecba2392-a1da-4f0a-dc6c-e2d60f190cf9"
      },
      "execution_count": 20,
      "outputs": [
        {
          "output_type": "execute_result",
          "data": {
            "text/plain": [
              "                 name  score\n",
              "0   Nearest_Neighbors  0.870\n",
              "1          Linear_SVM  0.865\n",
              "2      Polynomial_SVM  0.830\n",
              "3             RBF_SVM  0.835\n",
              "4    Gaussian_Process  0.895\n",
              "5   Gradient_Boosting  0.840\n",
              "6      Decission_Tree  0.885\n",
              "7          Extra_Tree  0.880\n",
              "8       Random_Forest  0.890\n",
              "9          Neural_net  0.910\n",
              "10           AdaBoost  0.865\n",
              "11        Naive_Bayes  0.880\n",
              "12                QDA  0.850\n",
              "13                SGD  0.800"
            ],
            "text/html": [
              "\n",
              "  <div id=\"df-d1f51082-5712-4015-9888-b73357adf8b7\">\n",
              "    <div class=\"colab-df-container\">\n",
              "      <div>\n",
              "<style scoped>\n",
              "    .dataframe tbody tr th:only-of-type {\n",
              "        vertical-align: middle;\n",
              "    }\n",
              "\n",
              "    .dataframe tbody tr th {\n",
              "        vertical-align: top;\n",
              "    }\n",
              "\n",
              "    .dataframe thead th {\n",
              "        text-align: right;\n",
              "    }\n",
              "</style>\n",
              "<table border=\"1\" class=\"dataframe\">\n",
              "  <thead>\n",
              "    <tr style=\"text-align: right;\">\n",
              "      <th></th>\n",
              "      <th>name</th>\n",
              "      <th>score</th>\n",
              "    </tr>\n",
              "  </thead>\n",
              "  <tbody>\n",
              "    <tr>\n",
              "      <th>0</th>\n",
              "      <td>Nearest_Neighbors</td>\n",
              "      <td>0.870</td>\n",
              "    </tr>\n",
              "    <tr>\n",
              "      <th>1</th>\n",
              "      <td>Linear_SVM</td>\n",
              "      <td>0.865</td>\n",
              "    </tr>\n",
              "    <tr>\n",
              "      <th>2</th>\n",
              "      <td>Polynomial_SVM</td>\n",
              "      <td>0.830</td>\n",
              "    </tr>\n",
              "    <tr>\n",
              "      <th>3</th>\n",
              "      <td>RBF_SVM</td>\n",
              "      <td>0.835</td>\n",
              "    </tr>\n",
              "    <tr>\n",
              "      <th>4</th>\n",
              "      <td>Gaussian_Process</td>\n",
              "      <td>0.895</td>\n",
              "    </tr>\n",
              "    <tr>\n",
              "      <th>5</th>\n",
              "      <td>Gradient_Boosting</td>\n",
              "      <td>0.840</td>\n",
              "    </tr>\n",
              "    <tr>\n",
              "      <th>6</th>\n",
              "      <td>Decission_Tree</td>\n",
              "      <td>0.885</td>\n",
              "    </tr>\n",
              "    <tr>\n",
              "      <th>7</th>\n",
              "      <td>Extra_Tree</td>\n",
              "      <td>0.880</td>\n",
              "    </tr>\n",
              "    <tr>\n",
              "      <th>8</th>\n",
              "      <td>Random_Forest</td>\n",
              "      <td>0.890</td>\n",
              "    </tr>\n",
              "    <tr>\n",
              "      <th>9</th>\n",
              "      <td>Neural_net</td>\n",
              "      <td>0.910</td>\n",
              "    </tr>\n",
              "    <tr>\n",
              "      <th>10</th>\n",
              "      <td>AdaBoost</td>\n",
              "      <td>0.865</td>\n",
              "    </tr>\n",
              "    <tr>\n",
              "      <th>11</th>\n",
              "      <td>Naive_Bayes</td>\n",
              "      <td>0.880</td>\n",
              "    </tr>\n",
              "    <tr>\n",
              "      <th>12</th>\n",
              "      <td>QDA</td>\n",
              "      <td>0.850</td>\n",
              "    </tr>\n",
              "    <tr>\n",
              "      <th>13</th>\n",
              "      <td>SGD</td>\n",
              "      <td>0.800</td>\n",
              "    </tr>\n",
              "  </tbody>\n",
              "</table>\n",
              "</div>\n",
              "      <button class=\"colab-df-convert\" onclick=\"convertToInteractive('df-d1f51082-5712-4015-9888-b73357adf8b7')\"\n",
              "              title=\"Convert this dataframe to an interactive table.\"\n",
              "              style=\"display:none;\">\n",
              "        \n",
              "  <svg xmlns=\"http://www.w3.org/2000/svg\" height=\"24px\"viewBox=\"0 0 24 24\"\n",
              "       width=\"24px\">\n",
              "    <path d=\"M0 0h24v24H0V0z\" fill=\"none\"/>\n",
              "    <path d=\"M18.56 5.44l.94 2.06.94-2.06 2.06-.94-2.06-.94-.94-2.06-.94 2.06-2.06.94zm-11 1L8.5 8.5l.94-2.06 2.06-.94-2.06-.94L8.5 2.5l-.94 2.06-2.06.94zm10 10l.94 2.06.94-2.06 2.06-.94-2.06-.94-.94-2.06-.94 2.06-2.06.94z\"/><path d=\"M17.41 7.96l-1.37-1.37c-.4-.4-.92-.59-1.43-.59-.52 0-1.04.2-1.43.59L10.3 9.45l-7.72 7.72c-.78.78-.78 2.05 0 2.83L4 21.41c.39.39.9.59 1.41.59.51 0 1.02-.2 1.41-.59l7.78-7.78 2.81-2.81c.8-.78.8-2.07 0-2.86zM5.41 20L4 18.59l7.72-7.72 1.47 1.35L5.41 20z\"/>\n",
              "  </svg>\n",
              "      </button>\n",
              "      \n",
              "  <style>\n",
              "    .colab-df-container {\n",
              "      display:flex;\n",
              "      flex-wrap:wrap;\n",
              "      gap: 12px;\n",
              "    }\n",
              "\n",
              "    .colab-df-convert {\n",
              "      background-color: #E8F0FE;\n",
              "      border: none;\n",
              "      border-radius: 50%;\n",
              "      cursor: pointer;\n",
              "      display: none;\n",
              "      fill: #1967D2;\n",
              "      height: 32px;\n",
              "      padding: 0 0 0 0;\n",
              "      width: 32px;\n",
              "    }\n",
              "\n",
              "    .colab-df-convert:hover {\n",
              "      background-color: #E2EBFA;\n",
              "      box-shadow: 0px 1px 2px rgba(60, 64, 67, 0.3), 0px 1px 3px 1px rgba(60, 64, 67, 0.15);\n",
              "      fill: #174EA6;\n",
              "    }\n",
              "\n",
              "    [theme=dark] .colab-df-convert {\n",
              "      background-color: #3B4455;\n",
              "      fill: #D2E3FC;\n",
              "    }\n",
              "\n",
              "    [theme=dark] .colab-df-convert:hover {\n",
              "      background-color: #434B5C;\n",
              "      box-shadow: 0px 1px 3px 1px rgba(0, 0, 0, 0.15);\n",
              "      filter: drop-shadow(0px 1px 2px rgba(0, 0, 0, 0.3));\n",
              "      fill: #FFFFFF;\n",
              "    }\n",
              "  </style>\n",
              "\n",
              "      <script>\n",
              "        const buttonEl =\n",
              "          document.querySelector('#df-d1f51082-5712-4015-9888-b73357adf8b7 button.colab-df-convert');\n",
              "        buttonEl.style.display =\n",
              "          google.colab.kernel.accessAllowed ? 'block' : 'none';\n",
              "\n",
              "        async function convertToInteractive(key) {\n",
              "          const element = document.querySelector('#df-d1f51082-5712-4015-9888-b73357adf8b7');\n",
              "          const dataTable =\n",
              "            await google.colab.kernel.invokeFunction('convertToInteractive',\n",
              "                                                     [key], {});\n",
              "          if (!dataTable) return;\n",
              "\n",
              "          const docLinkHtml = 'Like what you see? Visit the ' +\n",
              "            '<a target=\"_blank\" href=https://colab.research.google.com/notebooks/data_table.ipynb>data table notebook</a>'\n",
              "            + ' to learn more about interactive tables.';\n",
              "          element.innerHTML = '';\n",
              "          dataTable['output_type'] = 'display_data';\n",
              "          await google.colab.output.renderOutput(dataTable, element);\n",
              "          const docLink = document.createElement('div');\n",
              "          docLink.innerHTML = docLinkHtml;\n",
              "          element.appendChild(docLink);\n",
              "        }\n",
              "      </script>\n",
              "    </div>\n",
              "  </div>\n",
              "  "
            ]
          },
          "metadata": {},
          "execution_count": 20
        }
      ]
    },
    {
      "cell_type": "markdown",
      "source": [
        "### 4.3 Adding colors to the data frame"
      ],
      "metadata": {
        "id": "tY-NpTSsBkEI"
      }
    },
    {
      "cell_type": "code",
      "source": [
        "cm = sns.light_palette(\"blue\", as_cmap=True)\n",
        "s = df.style.background_gradient(cmap=cm)\n",
        "s"
      ],
      "metadata": {
        "colab": {
          "base_uri": "https://localhost:8080/",
          "height": 488
        },
        "id": "G_a8_iaVBpoj",
        "outputId": "7c3be2f2-4122-4b61-d719-1bb273ee8c19"
      },
      "execution_count": 21,
      "outputs": [
        {
          "output_type": "execute_result",
          "data": {
            "text/plain": [
              "<pandas.io.formats.style.Styler at 0x7f0bb9772ca0>"
            ],
            "text/html": [
              "<style type=\"text/css\">\n",
              "#T_bade9_row0_col1 {\n",
              "  background-color: #5858fb;\n",
              "  color: #f1f1f1;\n",
              "}\n",
              "#T_bade9_row1_col1, #T_bade9_row10_col1 {\n",
              "  background-color: #6262fa;\n",
              "  color: #f1f1f1;\n",
              "}\n",
              "#T_bade9_row2_col1 {\n",
              "  background-color: #afaff6;\n",
              "  color: #000000;\n",
              "}\n",
              "#T_bade9_row3_col1 {\n",
              "  background-color: #a4a4f7;\n",
              "  color: #000000;\n",
              "}\n",
              "#T_bade9_row4_col1 {\n",
              "  background-color: #2020fd;\n",
              "  color: #f1f1f1;\n",
              "}\n",
              "#T_bade9_row5_col1 {\n",
              "  background-color: #9999f7;\n",
              "  color: #f1f1f1;\n",
              "}\n",
              "#T_bade9_row6_col1 {\n",
              "  background-color: #3737fc;\n",
              "  color: #f1f1f1;\n",
              "}\n",
              "#T_bade9_row7_col1, #T_bade9_row11_col1 {\n",
              "  background-color: #4141fc;\n",
              "  color: #f1f1f1;\n",
              "}\n",
              "#T_bade9_row8_col1 {\n",
              "  background-color: #2b2bfd;\n",
              "  color: #f1f1f1;\n",
              "}\n",
              "#T_bade9_row9_col1 {\n",
              "  background-color: #0000ff;\n",
              "  color: #f1f1f1;\n",
              "}\n",
              "#T_bade9_row12_col1 {\n",
              "  background-color: #8383f8;\n",
              "  color: #f1f1f1;\n",
              "}\n",
              "#T_bade9_row13_col1 {\n",
              "  background-color: #f0f0f3;\n",
              "  color: #000000;\n",
              "}\n",
              "</style>\n",
              "<table id=\"T_bade9_\" class=\"dataframe\">\n",
              "  <thead>\n",
              "    <tr>\n",
              "      <th class=\"blank level0\" >&nbsp;</th>\n",
              "      <th class=\"col_heading level0 col0\" >name</th>\n",
              "      <th class=\"col_heading level0 col1\" >score</th>\n",
              "    </tr>\n",
              "  </thead>\n",
              "  <tbody>\n",
              "    <tr>\n",
              "      <th id=\"T_bade9_level0_row0\" class=\"row_heading level0 row0\" >0</th>\n",
              "      <td id=\"T_bade9_row0_col0\" class=\"data row0 col0\" >Nearest_Neighbors</td>\n",
              "      <td id=\"T_bade9_row0_col1\" class=\"data row0 col1\" >0.870000</td>\n",
              "    </tr>\n",
              "    <tr>\n",
              "      <th id=\"T_bade9_level0_row1\" class=\"row_heading level0 row1\" >1</th>\n",
              "      <td id=\"T_bade9_row1_col0\" class=\"data row1 col0\" >Linear_SVM</td>\n",
              "      <td id=\"T_bade9_row1_col1\" class=\"data row1 col1\" >0.865000</td>\n",
              "    </tr>\n",
              "    <tr>\n",
              "      <th id=\"T_bade9_level0_row2\" class=\"row_heading level0 row2\" >2</th>\n",
              "      <td id=\"T_bade9_row2_col0\" class=\"data row2 col0\" >Polynomial_SVM</td>\n",
              "      <td id=\"T_bade9_row2_col1\" class=\"data row2 col1\" >0.830000</td>\n",
              "    </tr>\n",
              "    <tr>\n",
              "      <th id=\"T_bade9_level0_row3\" class=\"row_heading level0 row3\" >3</th>\n",
              "      <td id=\"T_bade9_row3_col0\" class=\"data row3 col0\" >RBF_SVM</td>\n",
              "      <td id=\"T_bade9_row3_col1\" class=\"data row3 col1\" >0.835000</td>\n",
              "    </tr>\n",
              "    <tr>\n",
              "      <th id=\"T_bade9_level0_row4\" class=\"row_heading level0 row4\" >4</th>\n",
              "      <td id=\"T_bade9_row4_col0\" class=\"data row4 col0\" >Gaussian_Process</td>\n",
              "      <td id=\"T_bade9_row4_col1\" class=\"data row4 col1\" >0.895000</td>\n",
              "    </tr>\n",
              "    <tr>\n",
              "      <th id=\"T_bade9_level0_row5\" class=\"row_heading level0 row5\" >5</th>\n",
              "      <td id=\"T_bade9_row5_col0\" class=\"data row5 col0\" >Gradient_Boosting</td>\n",
              "      <td id=\"T_bade9_row5_col1\" class=\"data row5 col1\" >0.840000</td>\n",
              "    </tr>\n",
              "    <tr>\n",
              "      <th id=\"T_bade9_level0_row6\" class=\"row_heading level0 row6\" >6</th>\n",
              "      <td id=\"T_bade9_row6_col0\" class=\"data row6 col0\" >Decission_Tree</td>\n",
              "      <td id=\"T_bade9_row6_col1\" class=\"data row6 col1\" >0.885000</td>\n",
              "    </tr>\n",
              "    <tr>\n",
              "      <th id=\"T_bade9_level0_row7\" class=\"row_heading level0 row7\" >7</th>\n",
              "      <td id=\"T_bade9_row7_col0\" class=\"data row7 col0\" >Extra_Tree</td>\n",
              "      <td id=\"T_bade9_row7_col1\" class=\"data row7 col1\" >0.880000</td>\n",
              "    </tr>\n",
              "    <tr>\n",
              "      <th id=\"T_bade9_level0_row8\" class=\"row_heading level0 row8\" >8</th>\n",
              "      <td id=\"T_bade9_row8_col0\" class=\"data row8 col0\" >Random_Forest</td>\n",
              "      <td id=\"T_bade9_row8_col1\" class=\"data row8 col1\" >0.890000</td>\n",
              "    </tr>\n",
              "    <tr>\n",
              "      <th id=\"T_bade9_level0_row9\" class=\"row_heading level0 row9\" >9</th>\n",
              "      <td id=\"T_bade9_row9_col0\" class=\"data row9 col0\" >Neural_net</td>\n",
              "      <td id=\"T_bade9_row9_col1\" class=\"data row9 col1\" >0.910000</td>\n",
              "    </tr>\n",
              "    <tr>\n",
              "      <th id=\"T_bade9_level0_row10\" class=\"row_heading level0 row10\" >10</th>\n",
              "      <td id=\"T_bade9_row10_col0\" class=\"data row10 col0\" >AdaBoost</td>\n",
              "      <td id=\"T_bade9_row10_col1\" class=\"data row10 col1\" >0.865000</td>\n",
              "    </tr>\n",
              "    <tr>\n",
              "      <th id=\"T_bade9_level0_row11\" class=\"row_heading level0 row11\" >11</th>\n",
              "      <td id=\"T_bade9_row11_col0\" class=\"data row11 col0\" >Naive_Bayes</td>\n",
              "      <td id=\"T_bade9_row11_col1\" class=\"data row11 col1\" >0.880000</td>\n",
              "    </tr>\n",
              "    <tr>\n",
              "      <th id=\"T_bade9_level0_row12\" class=\"row_heading level0 row12\" >12</th>\n",
              "      <td id=\"T_bade9_row12_col0\" class=\"data row12 col0\" >QDA</td>\n",
              "      <td id=\"T_bade9_row12_col1\" class=\"data row12 col1\" >0.850000</td>\n",
              "    </tr>\n",
              "    <tr>\n",
              "      <th id=\"T_bade9_level0_row13\" class=\"row_heading level0 row13\" >13</th>\n",
              "      <td id=\"T_bade9_row13_col0\" class=\"data row13 col0\" >SGD</td>\n",
              "      <td id=\"T_bade9_row13_col1\" class=\"data row13 col1\" >0.800000</td>\n",
              "    </tr>\n",
              "  </tbody>\n",
              "</table>\n"
            ]
          },
          "metadata": {},
          "execution_count": 21
        }
      ]
    },
    {
      "cell_type": "markdown",
      "source": [
        "### 4.4 Bar plot of model performance"
      ],
      "metadata": {
        "id": "jCwUYHduCKAZ"
      }
    },
    {
      "cell_type": "code",
      "source": [
        "sns.set(style=\"whitegrid\")\n",
        "ax = sns.barplot(y=\"name\", x=\"score\", data=df)"
      ],
      "metadata": {
        "colab": {
          "base_uri": "https://localhost:8080/",
          "height": 285
        },
        "id": "i2tmxSoUCM9l",
        "outputId": "5afc0736-bac4-42a7-f1c9-c5c1405c04e1"
      },
      "execution_count": 22,
      "outputs": [
        {
          "output_type": "display_data",
          "data": {
            "text/plain": [
              "<Figure size 432x288 with 1 Axes>"
            ],
            "image/png": "[encoded data removed]"
          },
          "metadata": {}
        }
      ]
    }
  ]
}